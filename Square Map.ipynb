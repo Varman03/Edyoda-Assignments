{
 "cells": [
  {
   "cell_type": "code",
   "execution_count": 4,
   "id": "15c971e3",
   "metadata": {},
   "outputs": [
    {
     "name": "stdout",
     "output_type": "stream",
     "text": [
      "Square of given list is:\n",
      "[16, 25, 4, 81]\n"
     ]
    }
   ],
   "source": [
    "sample_list=[4,5,2,9]\n",
    "square=map(lambda x:x*x,sample_list)\n",
    "print(\"Square of given list is:\")\n",
    "print(list(square))"
   ]
  },
  {
   "cell_type": "code",
   "execution_count": null,
   "id": "d018d0e0",
   "metadata": {},
   "outputs": [],
   "source": []
  }
 ],
 "metadata": {
  "kernelspec": {
   "display_name": "Python 3 (ipykernel)",
   "language": "python",
   "name": "python3"
  },
  "language_info": {
   "codemirror_mode": {
    "name": "ipython",
    "version": 3
   },
   "file_extension": ".py",
   "mimetype": "text/x-python",
   "name": "python",
   "nbconvert_exporter": "python",
   "pygments_lexer": "ipython3",
   "version": "3.10.9"
  }
 },
 "nbformat": 4,
 "nbformat_minor": 5
}
