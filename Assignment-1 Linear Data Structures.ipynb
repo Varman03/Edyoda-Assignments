{
 "cells": [
  {
   "cell_type": "code",
   "execution_count": 1,
   "id": "98d9a002",
   "metadata": {},
   "outputs": [
    {
     "name": "stdout",
     "output_type": "stream",
     "text": [
      "[(6, 4), (7, 3), (8, 2), (9, 1)]\n"
     ]
    }
   ],
   "source": [
    "def find_pairs(array, target_sum):\n",
    "    pairs = []\n",
    "    seen = set()\n",
    "\n",
    "    for num in array:\n",
    "        complement = target_sum - num\n",
    "        if complement in seen:\n",
    "            pair = (num, complement)\n",
    "            pairs.append(pair)\n",
    "        seen.add(num)\n",
    "\n",
    "    return pairs\n",
    "\n",
    "arr = [1, 2, 3, 4, 5, 6, 7, 8, 9]\n",
    "target = 10\n",
    "result = find_pairs(arr, target)\n",
    "print(result)\n"
   ]
  },
  {
   "cell_type": "code",
   "execution_count": 2,
   "id": "21432eec",
   "metadata": {},
   "outputs": [
    {
     "name": "stdout",
     "output_type": "stream",
     "text": [
      "[5, 4, 3, 2, 1]\n"
     ]
    }
   ],
   "source": [
    "def reverse_array(array):\n",
    "    start = 0\n",
    "    end = len(array) - 1\n",
    "\n",
    "    while start < end:\n",
    "        array[start], array[end] = array[end], array[start]\n",
    "        start += 1\n",
    "        end -= 1\n",
    "\n",
    "arr = [1, 2, 3, 4, 5]\n",
    "reverse_array(arr)\n",
    "print(arr)"
   ]
  },
  {
   "cell_type": "code",
   "execution_count": 3,
   "id": "c1273de7",
   "metadata": {},
   "outputs": [
    {
     "name": "stdout",
     "output_type": "stream",
     "text": [
      "True\n"
     ]
    }
   ],
   "source": [
    "def are_rotations(string1, string2):\n",
    "    if len(string1) != len(string2):\n",
    "        return False\n",
    "\n",
    "    concatenated = string1 + string1\n",
    "    \n",
    "    if string2 in concatenated:\n",
    "        return True\n",
    "    else:\n",
    "        return False\n",
    "\n",
    "# Example usage\n",
    "s1 = \"abcd\"\n",
    "s2 = \"cdab\"\n",
    "result = are_rotations(s1, s2)\n",
    "print(result)"
   ]
  },
  {
   "cell_type": "code",
   "execution_count": 4,
   "id": "c12e59c4",
   "metadata": {},
   "outputs": [
    {
     "name": "stdout",
     "output_type": "stream",
     "text": [
      "c\n"
     ]
    }
   ],
   "source": [
    "def first_non_repeated_char(string):\n",
    "    char_count = {}\n",
    "\n",
    "    # Count the frequencies of each character\n",
    "    for char in string:\n",
    "        char_count[char] = char_count.get(char, 0) + 1\n",
    "\n",
    "    # Find the first non-repeated character\n",
    "    for char in string:\n",
    "        if char_count[char] == 1:\n",
    "            return char\n",
    "\n",
    "    return None  # Return None if there are no non-repeated characters\n",
    "\n",
    "# Example usage\n",
    "s = \"aabbcde\"\n",
    "result = first_non_repeated_char(s)\n",
    "print(result)"
   ]
  },
  {
   "cell_type": "code",
   "execution_count": 1,
   "id": "5be26e04",
   "metadata": {},
   "outputs": [
    {
     "name": "stdout",
     "output_type": "stream",
     "text": [
      "Move disk 1 from A to C\n",
      "Move disk 2 from A to B\n",
      "Move disk 1 from C to B\n",
      "Move disk 3 from A to C\n",
      "Move disk 1 from B to A\n",
      "Move disk 2 from B to C\n",
      "Move disk 1 from A to C\n"
     ]
    }
   ],
   "source": [
    "def tower_of_hanoi(n, source, auxiliary, destination):\n",
    "    if n == 1:\n",
    "        print(f\"Move disk 1 from {source} to {destination}\")\n",
    "        return\n",
    "\n",
    "    tower_of_hanoi(n - 1, source, destination, auxiliary)\n",
    "    print(f\"Move disk {n} from {source} to {destination}\")\n",
    "    tower_of_hanoi(n - 1, auxiliary, source, destination)\n",
    "\n",
    "# Example usage\n",
    "num_disks = 3\n",
    "tower_of_hanoi(num_disks, \"A\", \"B\", \"C\")"
   ]
  },
  {
   "cell_type": "code",
   "execution_count": 1,
   "id": "779bf8c0",
   "metadata": {},
   "outputs": [
    {
     "name": "stdout",
     "output_type": "stream",
     "text": [
      "+2*34\n"
     ]
    }
   ],
   "source": [
    "def postfix_to_prefix(postfix_expression):\n",
    "    stack = []\n",
    "\n",
    "    for token in postfix_expression:\n",
    "        if token.isalnum():\n",
    "            stack.append(token)\n",
    "        else:\n",
    "            operand2 = stack.pop()\n",
    "            operand1 = stack.pop()\n",
    "            prefix_expression = token + operand1 + operand2\n",
    "            stack.append(prefix_expression)\n",
    "\n",
    "    return stack.pop()\n",
    "\n",
    "# Example usage\n",
    "postfix_expr = \"234*+\"\n",
    "prefix_expr = postfix_to_prefix(postfix_expr)\n",
    "print(prefix_expr)"
   ]
  },
  {
   "cell_type": "code",
   "execution_count": 2,
   "id": "2e996638",
   "metadata": {},
   "outputs": [
    {
     "name": "stdout",
     "output_type": "stream",
     "text": [
      "(2+(3*4))\n"
     ]
    }
   ],
   "source": [
    "def is_operator(token):\n",
    "    operators = ['+', '-', '*', '/']\n",
    "    return token in operators\n",
    "\n",
    "def prefix_to_infix(prefix_expression):\n",
    "    stack = []\n",
    "\n",
    "    for token in reversed(prefix_expression):\n",
    "        if token.isalnum():\n",
    "            stack.append(token)\n",
    "        elif is_operator(token):\n",
    "            operand1 = stack.pop()\n",
    "            operand2 = stack.pop()\n",
    "            infix_expression = \"(\" + operand1 + token + operand2 + \")\"\n",
    "            stack.append(infix_expression)\n",
    "\n",
    "    return stack.pop()\n",
    "\n",
    "# Example usage\n",
    "prefix_expr = \"+2*34\"\n",
    "infix_expr = prefix_to_infix(prefix_expr)\n",
    "print(infix_expr)"
   ]
  },
  {
   "cell_type": "code",
   "execution_count": 3,
   "id": "1c9cc8ca",
   "metadata": {},
   "outputs": [
    {
     "name": "stdout",
     "output_type": "stream",
     "text": [
      "True\n"
     ]
    }
   ],
   "source": [
    "def is_balanced(code):\n",
    "    stack = []\n",
    "\n",
    "    opening_brackets = ['(', '[', '{']\n",
    "    closing_brackets = [')', ']', '}']\n",
    "    bracket_pairs = {'(': ')', '[': ']', '{': '}'}\n",
    "\n",
    "    for char in code:\n",
    "        if char in opening_brackets:\n",
    "            stack.append(char)\n",
    "        elif char in closing_brackets:\n",
    "            if not stack:\n",
    "                return False\n",
    "            top = stack.pop()\n",
    "            if bracket_pairs[top] != char:\n",
    "                return False\n",
    "\n",
    "    return len(stack) == 0\n",
    "\n",
    "# Example usage\n",
    "code_snippet = \"{ int x = (2 + 3); }\"\n",
    "is_balanced_brackets = is_balanced(code_snippet)\n",
    "print(is_balanced_brackets)"
   ]
  },
  {
   "cell_type": "code",
   "execution_count": 4,
   "id": "d321844c",
   "metadata": {},
   "outputs": [
    {
     "name": "stdout",
     "output_type": "stream",
     "text": [
      "1\n",
      "2\n",
      "3\n",
      "4\n"
     ]
    }
   ],
   "source": [
    "class Stack:\n",
    "    def __init__(self):\n",
    "        self.items = []\n",
    "\n",
    "    def is_empty(self):\n",
    "        return len(self.items) == 0\n",
    "\n",
    "    def push(self, item):\n",
    "        self.items.append(item)\n",
    "\n",
    "    def pop(self):\n",
    "        if not self.is_empty():\n",
    "            return self.items.pop()\n",
    "\n",
    "    def peek(self):\n",
    "        if not self.is_empty():\n",
    "            return self.items[-1]\n",
    "\n",
    "    def size(self):\n",
    "        return len(self.items)\n",
    "\n",
    "\n",
    "def reverse_stack(stack):\n",
    "    aux_stack = Stack()\n",
    "\n",
    "    while not stack.is_empty():\n",
    "        item = stack.pop()\n",
    "        aux_stack.push(item)\n",
    "\n",
    "    return aux_stack\n",
    "\n",
    "\n",
    "# Example usage\n",
    "stack = Stack()\n",
    "stack.push(1)\n",
    "stack.push(2)\n",
    "stack.push(3)\n",
    "stack.push(4)\n",
    "\n",
    "reversed_stack = reverse_stack(stack)\n",
    "\n",
    "while not reversed_stack.is_empty():\n",
    "    print(reversed_stack.pop())"
   ]
  },
  {
   "cell_type": "code",
   "execution_count": 7,
   "id": "3599e766",
   "metadata": {},
   "outputs": [
    {
     "name": "stdout",
     "output_type": "stream",
     "text": [
      "Smallest number: 1\n"
     ]
    }
   ],
   "source": [
    "class Stack:\n",
    "    def __init__(self):\n",
    "        self.items = []\n",
    "        self.min_element = float('inf')  # Initialize with positive infinity\n",
    "\n",
    "    def is_empty(self):\n",
    "        return len(self.items) == 0\n",
    "\n",
    "    def push(self, item):\n",
    "        if item < self.min_element:\n",
    "            # If item is smaller than current min_element,\n",
    "            # push the previous min_element and update min_element\n",
    "            self.items.append(2 * item - self.min_element)\n",
    "            self.min_element = item\n",
    "        else:\n",
    "            self.items.append(item)\n",
    "\n",
    "    def pop(self):\n",
    "        if not self.is_empty():\n",
    "            top = self.items.pop()\n",
    "            if top < self.min_element:\n",
    "                # If the top element is smaller than min_element,\n",
    "                # update min_element to the previous min_element\n",
    "                self.min_element = 2 * self.min_element - top\n",
    "            return top\n",
    "\n",
    "    def peek(self):\n",
    "        if not self.is_empty():\n",
    "            top = self.items[-1]\n",
    "            if top < self.min_element:\n",
    "                return self.min_element\n",
    "            else:\n",
    "                return top\n",
    "\n",
    "    def size(self):\n",
    "        return len(self.items)\n",
    "\n",
    "    def get_minimum(self):\n",
    "        return self.min_element\n",
    "\n",
    "\n",
    "# Example usage\n",
    "stack = Stack()\n",
    "stack.push(4)\n",
    "stack.push(2)\n",
    "stack.push(6)\n",
    "stack.push(1)\n",
    "\n",
    "smallest_number = stack.get_minimum()\n",
    "print(\"Smallest number:\", smallest_number)"
   ]
  },
  {
   "cell_type": "code",
   "execution_count": null,
   "id": "5e1152f7",
   "metadata": {},
   "outputs": [],
   "source": []
  }
 ],
 "metadata": {
  "kernelspec": {
   "display_name": "Python 3 (ipykernel)",
   "language": "python",
   "name": "python3"
  },
  "language_info": {
   "codemirror_mode": {
    "name": "ipython",
    "version": 3
   },
   "file_extension": ".py",
   "mimetype": "text/x-python",
   "name": "python",
   "nbconvert_exporter": "python",
   "pygments_lexer": "ipython3",
   "version": "3.10.9"
  }
 },
 "nbformat": 4,
 "nbformat_minor": 5
}
