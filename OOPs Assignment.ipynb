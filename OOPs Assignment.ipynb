{
 "cells": [
  {
   "cell_type": "markdown",
   "id": "2a291edf",
   "metadata": {},
   "source": [
    "# Challenge 1: Square Numbers and Return their Sum"
   ]
  },
  {
   "cell_type": "code",
   "execution_count": 7,
   "id": "18ca6fa7",
   "metadata": {},
   "outputs": [
    {
     "name": "stdout",
     "output_type": "stream",
     "text": [
      "35\n"
     ]
    }
   ],
   "source": [
    "class Point:\n",
    "    def __init__(self, x, y, z):\n",
    "        self.x = x\n",
    "        self.y = y\n",
    "        self.z = z\n",
    "\n",
    "    def sqSum(self):\n",
    "        return (self.x ** 2) + (self.y ** 2) + (self.z ** 2)\n",
    "\n",
    "point = Point(1, 3, 5)\n",
    "\n",
    "print(point.sqSum())"
   ]
  },
  {
   "cell_type": "markdown",
   "id": "831fa7d6",
   "metadata": {},
   "source": [
    "# Challenge 2:Implementing a Calculator Class"
   ]
  },
  {
   "cell_type": "code",
   "execution_count": 3,
   "id": "0859fc50",
   "metadata": {},
   "outputs": [
    {
     "name": "stdout",
     "output_type": "stream",
     "text": [
      "104\n",
      "84\n",
      "940\n",
      "9.4\n"
     ]
    }
   ],
   "source": [
    "class Calculator:\n",
    "    def __init__(self, num1, num2):\n",
    "        self.num1 = num1\n",
    "        self.num2 = num2\n",
    "    \n",
    "    def add(self):\n",
    "        return self.num1 + self.num2\n",
    "    \n",
    "    def subtract(self):\n",
    "        return self.num2 - self.num1\n",
    "    \n",
    "    def multiply(self):\n",
    "        return self.num1 * self.num2\n",
    "    \n",
    "    def divide(self):\n",
    "        return self.num2 / self.num1\n",
    "\n",
    "\n",
    "obj = Calculator(10, 94)\n",
    "\n",
    "\n",
    "print(obj.add())\n",
    "print(obj.subtract())\n",
    "print(obj.multiply())\n",
    "print(obj.divide())"
   ]
  },
  {
   "cell_type": "markdown",
   "id": "9d70e6f6",
   "metadata": {},
   "source": [
    "# Challenge 3:Implementing a Complete Student Class"
   ]
  },
  {
   "cell_type": "code",
   "execution_count": 4,
   "id": "540dc7ed",
   "metadata": {},
   "outputs": [
    {
     "name": "stdout",
     "output_type": "stream",
     "text": [
      "John Doe\n",
      "12345\n",
      "Jane Smith\n",
      "54321\n"
     ]
    }
   ],
   "source": [
    "class Student:\n",
    "    def __init__(self, name, rollNumber):\n",
    "        self.__name = name\n",
    "        self.__rollNumber = rollNumber\n",
    "    \n",
    "    def getName(self):\n",
    "        return self.__name\n",
    "    \n",
    "    def setName(self, name):\n",
    "        self.__name = name\n",
    "    \n",
    "    def getRollNumber(self):\n",
    "        return self.__rollNumber\n",
    "    \n",
    "    def setRollNumber(self, rollNumber):\n",
    "        self.__rollNumber = rollNumber\n",
    "\n",
    "\n",
    "student = Student(\"John Doe\", 12345)\n",
    "\n",
    "print(student.getName())\n",
    "print(student.getRollNumber())\n",
    "\n",
    "\n",
    "student.setName(\"Jane Smith\")\n",
    "student.setRollNumber(54321)\n",
    "\n",
    "\n",
    "print(student.getName())\n",
    "print(student.getRollNumber())"
   ]
  },
  {
   "cell_type": "markdown",
   "id": "06ede6a5",
   "metadata": {},
   "source": [
    "# Challenge 4:Implementing a Bank Account"
   ]
  },
  {
   "cell_type": "code",
   "execution_count": 5,
   "id": "5b2381f3",
   "metadata": {},
   "outputs": [
    {
     "name": "stdout",
     "output_type": "stream",
     "text": [
      "Ashish\n",
      "5000\n",
      "Ashish\n",
      "5000\n",
      "5\n"
     ]
    }
   ],
   "source": [
    "class Account:\n",
    "    def __init__(self, title, balance):\n",
    "        self.title = title\n",
    "        self.balance = balance\n",
    "\n",
    "\n",
    "class SavingsAccount(Account):\n",
    "    def __init__(self, title, balance, interestRate):\n",
    "        super().__init__(title, balance)\n",
    "        self.interestRate = interestRate\n",
    "\n",
    "\n",
    "\n",
    "account = Account(\"Ashish\", 5000)\n",
    "\n",
    "\n",
    "print(account.title)\n",
    "print(account.balance)\n",
    "\n",
    "\n",
    "savingsAccount = SavingsAccount(\"Ashish\", 5000, 5)\n",
    "\n",
    "print(savingsAccount.title)\n",
    "print(savingsAccount.balance)\n",
    "print(savingsAccount.interestRate)"
   ]
  },
  {
   "cell_type": "markdown",
   "id": "bf9a38d7",
   "metadata": {},
   "source": [
    "# Challenge 5:Handling a Bank Account"
   ]
  },
  {
   "cell_type": "code",
   "execution_count": 6,
   "id": "6ad532f5",
   "metadata": {},
   "outputs": [
    {
     "name": "stdout",
     "output_type": "stream",
     "text": [
      "2500\n",
      "2000\n",
      "100.0\n"
     ]
    }
   ],
   "source": [
    "class Account:\n",
    "    def __init__(self, title=None, balance=0):\n",
    "        self.title = title\n",
    "        self.balance = balance\n",
    "    \n",
    "    def withdrawal(self, amount):\n",
    "        self.balance -= amount\n",
    "\n",
    "    def deposit(self, amount):\n",
    "        self.balance += amount\n",
    "\n",
    "    def getBalance(self):\n",
    "        return self.balance\n",
    "\n",
    "\n",
    "class SavingsAccount(Account):\n",
    "    def __init__(self, title=None, balance=0, interestRate=0):\n",
    "        super().__init__(title, balance)\n",
    "        self.interestRate = interestRate\n",
    "    \n",
    "    def interestAmount(self):\n",
    "        return (self.balance * self.interestRate) / 100\n",
    "\n",
    "\n",
    "demo1 = SavingsAccount(\"Ashish\", 2000, 5)\n",
    "\n",
    "demo1.deposit(500)\n",
    "print(demo1.getBalance())\n",
    "\n",
    "demo1.withdrawal(500)\n",
    "print(demo1.getBalance())\n",
    "\n",
    "print(demo1.interestAmount())"
   ]
  },
  {
   "cell_type": "code",
   "execution_count": null,
   "id": "e0dc01d6",
   "metadata": {},
   "outputs": [],
   "source": []
  }
 ],
 "metadata": {
  "kernelspec": {
   "display_name": "Python 3 (ipykernel)",
   "language": "python",
   "name": "python3"
  },
  "language_info": {
   "codemirror_mode": {
    "name": "ipython",
    "version": 3
   },
   "file_extension": ".py",
   "mimetype": "text/x-python",
   "name": "python",
   "nbconvert_exporter": "python",
   "pygments_lexer": "ipython3",
   "version": "3.10.9"
  }
 },
 "nbformat": 4,
 "nbformat_minor": 5
}
